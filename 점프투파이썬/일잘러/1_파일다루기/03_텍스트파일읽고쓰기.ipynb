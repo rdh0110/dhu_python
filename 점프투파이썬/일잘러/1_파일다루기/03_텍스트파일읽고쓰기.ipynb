{
 "cells": [
  {
   "cell_type": "code",
   "execution_count": 2,
   "metadata": {},
   "outputs": [
    {
     "name": "stdout",
     "output_type": "stream",
     "text": [
      "첫 번째 파일 읽기!\n",
      "첫 번째 파일 읽기!\n",
      "첫 번째 파일 읽기!\n"
     ]
    }
   ],
   "source": [
    "file = open(\"./example.txt\", \"r\", encoding=\"utf-8\")\n",
    "content = file.read()\n",
    "\n",
    "file.close()\n",
    "\n",
    "print(content)"
   ]
  },
  {
   "cell_type": "code",
   "execution_count": 12,
   "metadata": {},
   "outputs": [
    {
     "name": "stdout",
     "output_type": "stream",
     "text": [
      "첫 번째 파일 읽기!\n",
      "첫 번째 파일 읽기!\n",
      "첫 번째 파일 읽기!\n"
     ]
    }
   ],
   "source": [
    "with open(\"./example.txt\", \"r\", encoding = \"utf-8\") as file:\n",
    "    content = file.read()\n",
    "    print(content)"
   ]
  },
  {
   "cell_type": "code",
   "execution_count": 16,
   "metadata": {},
   "outputs": [],
   "source": [
    "# 텍스트 파일 쓰기\n",
    "\n",
    "with open(\"./example_w.txt\", \"w\", encoding = \"utf-8\") as file:\n",
    "    file.write(\"Hello, \\nworld!\")"
   ]
  },
  {
   "cell_type": "code",
   "execution_count": 21,
   "metadata": {},
   "outputs": [
    {
     "name": "stdout",
     "output_type": "stream",
     "text": [
      "Hello, \n",
      " world!\n"
     ]
    }
   ],
   "source": [
    "# 한줄씩 읽기 readline()\n",
    "\n",
    "with open(\"./example_w.txt\", \"r\", encoding = \"utf-8\") as file:\n",
    "    line1 = file.readline()\n",
    "    line2 = file.readline()\n",
    "\n",
    "    print(line1, line2)"
   ]
  },
  {
   "cell_type": "code",
   "execution_count": 25,
   "metadata": {},
   "outputs": [
    {
     "name": "stdout",
     "output_type": "stream",
     "text": [
      "Hello,\n",
      "world!\n"
     ]
    }
   ],
   "source": [
    "# ./ 이건 현재 폴더 생략 가능\n",
    "with open(\"example_w.txt\", \"r\", encoding = \"utf-8\") as file:\n",
    "    line = file.readline()\n",
    "    while line:\n",
    "        print(line.strip())\n",
    "        line = file.readline()"
   ]
  },
  {
   "cell_type": "code",
   "execution_count": 26,
   "metadata": {},
   "outputs": [
    {
     "name": "stdout",
     "output_type": "stream",
     "text": [
      "['Hello, \\n', 'world!']\n"
     ]
    }
   ],
   "source": [
    "#readlines\n",
    "#모든 줄을 읽어 리스트로 반환하기\n",
    "\n",
    "with open(\"example_w.txt\", \"r\", encoding = \"utf-8\") as file:\n",
    "    lines = file.readlines()\n",
    "    print(lines)"
   ]
  },
  {
   "cell_type": "code",
   "execution_count": 28,
   "metadata": {},
   "outputs": [
    {
     "name": "stdout",
     "output_type": "stream",
     "text": [
      "Hello,\n",
      "world!\n"
     ]
    }
   ],
   "source": [
    "for line in lines:\n",
    "    print(line.strip())"
   ]
  },
  {
   "cell_type": "code",
   "execution_count": 32,
   "metadata": {},
   "outputs": [],
   "source": [
    "with open(\"example_line.txt\", \"w\") as file:\n",
    "    file.write(\"Hello World1\")\n",
    "    file.write(\"Hello World2\")"
   ]
  },
  {
   "cell_type": "code",
   "execution_count": 33,
   "metadata": {},
   "outputs": [],
   "source": [
    "with open(\"example_line.txt\", \"w\") as file:\n",
    "    file.write(\"Hello World1\\n\")\n",
    "    file.write(\"Hello World2\")"
   ]
  },
  {
   "cell_type": "code",
   "execution_count": 40,
   "metadata": {},
   "outputs": [],
   "source": [
    "lines= [\"Hello\", \"world!\", \"Hello1\", \"again!\"]\n",
    "\n",
    "with open(\"example_line.txt\", \"w\") as file:\n",
    "    for line in lines:\n",
    "        file.write(f\"안녕하세요 : {line}\\n\")"
   ]
  },
  {
   "cell_type": "code",
   "execution_count": 42,
   "metadata": {},
   "outputs": [],
   "source": [
    "lines= [\"Hello\\n\", \"world!\\n\", \"Hi\\n\", \"again!\"]\n",
    "\n",
    "with open(\"example_line.txt\", \"w\") as file:\n",
    "    file.writelines(lines)"
   ]
  },
  {
   "cell_type": "code",
   "execution_count": 53,
   "metadata": {},
   "outputs": [
    {
     "name": "stdout",
     "output_type": "stream",
     "text": [
      "before: Hello, World!\n",
      "Hello, again!\n",
      "after: o, again!\n",
      "final: we can change it.\n",
      "o, again!\n"
     ]
    }
   ],
   "source": [
    "# 파일 포인터의 동작 원리\n",
    "\n",
    "with open(\"example_line.txt\", \"r+\", encoding=\"utf8\") as f:\n",
    "    content= f.read()\n",
    "    print(\"before:\" , content)\n",
    "\n",
    "    f.seek(0)\n",
    "    f.write(\"we can change it.\\n\")\n",
    "    content = f.read()\n",
    "    print(\"after:\", content)\n",
    "\n",
    "    f.seek(0)\n",
    "    content = f.read()\n",
    "    print(\"final:\", content)\n"
   ]
  },
  {
   "cell_type": "code",
   "execution_count": null,
   "metadata": {},
   "outputs": [],
   "source": []
  }
 ],
 "metadata": {
  "kernelspec": {
   "display_name": "Python 3",
   "language": "python",
   "name": "python3"
  },
  "language_info": {
   "codemirror_mode": {
    "name": "ipython",
    "version": 3
   },
   "file_extension": ".py",
   "mimetype": "text/x-python",
   "name": "python",
   "nbconvert_exporter": "python",
   "pygments_lexer": "ipython3",
   "version": "3.10.6"
  }
 },
 "nbformat": 4,
 "nbformat_minor": 2
}
