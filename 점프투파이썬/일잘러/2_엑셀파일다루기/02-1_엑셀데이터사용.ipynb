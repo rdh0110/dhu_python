{
 "cells": [
  {
   "cell_type": "code",
   "execution_count": 16,
   "metadata": {},
   "outputs": [],
   "source": [
    "# 엑셀에 데이터 입력하고 확인\n",
    "\n",
    "from openpyxl import Workbook\n",
    "wb = Workbook()\n",
    "ws = wb.active\n",
    "ws.title = \"수강생_정보\"\n",
    "ws[\"A1\"] = \"이철수\"\n",
    "wb.save(\"수강생_리스트.xlsx\")\n",
    "wb.close()"
   ]
  },
  {
   "cell_type": "code",
   "execution_count": 19,
   "metadata": {},
   "outputs": [],
   "source": [
    "# 한 행에 데이터 입력하고 새 시트 추가하기\n",
    "from openpyxl import Workbook\n",
    "\n",
    "wb = Workbook()\n",
    "ws = wb.active\n",
    "ws.title = \"수강생_정보\"\n",
    "\n",
    "column = [\"번호\", \"이름\", \"과목\"]\n",
    "ws.append(column)\n",
    "\n",
    "row = [1, \"이철수\", \"수학\"]\n",
    "ws.append(row)\n",
    "\n",
    "wb.create_sheet(\"중간평가\")\n",
    "wb.create_sheet(\"기말평가\")\n",
    "\n",
    "wb.save(\"수강생_리스트.xlsx\")\n",
    "\n",
    "wb.close()"
   ]
  },
  {
   "cell_type": "code",
   "execution_count": 22,
   "metadata": {},
   "outputs": [],
   "source": [
    "# 여러 행에 데이터 입력하기\n",
    "\n",
    "from openpyxl import Workbook\n",
    "\n",
    "wb = Workbook()\n",
    "ws = wb.active\n",
    "ws.title = \"수강생_정보\"\n",
    "\n",
    "column = [\"번호\", \"이름\", \"과목\"]\n",
    "ws.append(column)\n",
    "\n",
    "row = [[1, \"이철수\", \"수학\"], [2, \"최학준\", \"컴퓨터\"], [3, \"김미소\", \"영어\"]]\n",
    "\n",
    "for data in row:\n",
    "    ws.append(data)\n",
    "\n",
    "wb.save(\"수강생_리스트.xlsx\")\n",
    "\n",
    "wb.close()"
   ]
  },
  {
   "cell_type": "code",
   "execution_count": 25,
   "metadata": {},
   "outputs": [],
   "source": [
    "# 열 단위로 데이터 입력하기\n",
    "\n",
    "from openpyxl import Workbook\n",
    "\n",
    "wb = Workbook()\n",
    "ws = wb.active\n",
    "ws.title= \"수강생_정보\"\n",
    "\n",
    "data = [\"이철수\", \"김미소\", \"최학준\"]\n",
    "\n",
    "for i, value in enumerate(data):     #(enumerate는 숫자를 부여해줌 0(i) 이철수(value) 이런 식으로 i랑 value는 뭐가 와도 됨)\n",
    "    ws.cell(row=i+1, column=1, value=value)\n",
    "\n",
    "wb.save(\"수강생_리스트.xlsx\")\n",
    "\n",
    "wb.close()"
   ]
  },
  {
   "cell_type": "code",
   "execution_count": 27,
   "metadata": {},
   "outputs": [],
   "source": [
    "from openpyxl import Workbook\n",
    "\n",
    "wb = Workbook()\n",
    "ws = wb.active\n",
    "ws.title= \"수강생_정보\"\n",
    "\n",
    "data = [\"이철수\", \"김미소\", \"최학준\"]\n",
    "\n",
    "for i , item in enumerate(data):\n",
    "    ws[f\"B{i+1}\"] = item\n",
    "\n",
    "wb.save(\"수강생_리스트.xlsx\")\n",
    "wb.close()"
   ]
  },
  {
   "cell_type": "code",
   "execution_count": 36,
   "metadata": {},
   "outputs": [],
   "source": [
    "#특정 범위의 열을 순회하기 iter_cols()\n",
    "\n",
    "from openpyxl import Workbook\n",
    "\n",
    "wb = Workbook()\n",
    "ws = wb.active\n",
    "ws.title= \"수강생_정보\"\n",
    "\n",
    "data = [ [\"이철수\", \"김미소\", \"최학준\"], [\"메이허\", \"브라이스유\", \"박현규\"] ]\n",
    "\n",
    "data_cells = ws.iter_cols(min_col=1, max_col=2, min_row=1, max_row=3)\n",
    "\n",
    "for col_idx, col_cells in enumerate(data_cells):\n",
    "    for row_idx, cell in enumerate(col_cells):\n",
    "        cell.value = data[col_idx][row_idx]\n",
    "\n",
    "wb.save(\"수강생_정보.xlsx\")\n",
    "wb.close()"
   ]
  },
  {
   "cell_type": "code",
   "execution_count": null,
   "metadata": {},
   "outputs": [],
   "source": []
  }
 ],
 "metadata": {
  "kernelspec": {
   "display_name": "Python 3",
   "language": "python",
   "name": "python3"
  },
  "language_info": {
   "codemirror_mode": {
    "name": "ipython",
    "version": 3
   },
   "file_extension": ".py",
   "mimetype": "text/x-python",
   "name": "python",
   "nbconvert_exporter": "python",
   "pygments_lexer": "ipython3",
   "version": "3.13.1"
  }
 },
 "nbformat": 4,
 "nbformat_minor": 2
}
