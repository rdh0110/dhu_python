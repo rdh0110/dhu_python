{
 "cells": [
  {
   "cell_type": "code",
   "execution_count": 1,
   "metadata": {},
   "outputs": [],
   "source": [
    "#딕셔너리는 키 값으로 정수형도 가능\n",
    "\n",
    "a={1:\"a\"}"
   ]
  },
  {
   "cell_type": "code",
   "execution_count": 2,
   "metadata": {},
   "outputs": [
    {
     "data": {
      "text/plain": [
       "{1: 'a', 2: 'b'}"
      ]
     },
     "execution_count": 2,
     "metadata": {},
     "output_type": "execute_result"
    }
   ],
   "source": [
    "#딕셔너리는 추가, 삭제 가능\n",
    "\n",
    "a[2] = \"b\"\n",
    "a"
   ]
  },
  {
   "cell_type": "code",
   "execution_count": 3,
   "metadata": {},
   "outputs": [
    {
     "data": {
      "text/plain": [
       "{1: 'a', 2: 'b', 'name': 'ken'}"
      ]
     },
     "execution_count": 3,
     "metadata": {},
     "output_type": "execute_result"
    }
   ],
   "source": [
    "a[\"name\"] = \"ken\"\n",
    "a"
   ]
  },
  {
   "cell_type": "code",
   "execution_count": 4,
   "metadata": {},
   "outputs": [
    {
     "data": {
      "text/plain": [
       "{1: 'a', 2: 'b', 'name': 'ken', 3: [1, 2, 3]}"
      ]
     },
     "execution_count": 4,
     "metadata": {},
     "output_type": "execute_result"
    }
   ],
   "source": [
    "a[3] = [1, 2, 3]\n",
    "a"
   ]
  },
  {
   "cell_type": "code",
   "execution_count": 5,
   "metadata": {},
   "outputs": [
    {
     "data": {
      "text/plain": [
       "4"
      ]
     },
     "execution_count": 5,
     "metadata": {},
     "output_type": "execute_result"
    }
   ],
   "source": [
    "len(a)"
   ]
  },
  {
   "cell_type": "code",
   "execution_count": 16,
   "metadata": {},
   "outputs": [
    {
     "data": {
      "text/plain": [
       "'kang'"
      ]
     },
     "execution_count": 16,
     "metadata": {},
     "output_type": "execute_result"
    }
   ],
   "source": [
    "profile = {\n",
    "    \"name\" : \"kang\",\n",
    "    \"sex\" : \"남\",\n",
    "    \"hobby\" : \"game\",\n",
    "    \"phone\" : \" 010-XXXX-XXXX\"\n",
    "}\n",
    "\n",
    "profile[\"name\"]"
   ]
  },
  {
   "cell_type": "code",
   "execution_count": 17,
   "metadata": {},
   "outputs": [],
   "source": [
    "del profile[\"phone\"]"
   ]
  },
  {
   "cell_type": "code",
   "execution_count": 18,
   "metadata": {},
   "outputs": [
    {
     "data": {
      "text/plain": [
       "{'name': 'kang', 'sex': '남', 'hobby': 'game'}"
      ]
     },
     "execution_count": 18,
     "metadata": {},
     "output_type": "execute_result"
    }
   ],
   "source": [
    "profile"
   ]
  },
  {
   "cell_type": "code",
   "execution_count": 19,
   "metadata": {},
   "outputs": [
    {
     "data": {
      "text/plain": [
       "{'name': 'kang', 'sex': '남', 'hobby': 'game', 'phone': '010-XXXX-XXXX'}"
      ]
     },
     "execution_count": 19,
     "metadata": {},
     "output_type": "execute_result"
    }
   ],
   "source": [
    "profile[\"phone\"] = \"010-XXXX-XXXX\"\n",
    "profile"
   ]
  },
  {
   "cell_type": "code",
   "execution_count": 20,
   "metadata": {},
   "outputs": [
    {
     "name": "stdout",
     "output_type": "stream",
     "text": [
      "{'name': 'kang', 'sex': '남', 'hobby': 'game', 'phone': '010-XXXX-XXXX'}\n",
      "dict_keys(['name', 'sex', 'hobby', 'phone'])\n"
     ]
    }
   ],
   "source": [
    "#### 딕셔너리 관련 함수\n",
    "\n",
    "# keys 함수\n",
    "\n",
    "print(profile)\n",
    "print(profile. keys())"
   ]
  },
  {
   "cell_type": "code",
   "execution_count": 21,
   "metadata": {},
   "outputs": [
    {
     "name": "stdout",
     "output_type": "stream",
     "text": [
      "{'name': 'kang', 'sex': '남', 'hobby': 'game', 'phone': '010-XXXX-XXXX'}\n",
      "dict_values(['kang', '남', 'game', '010-XXXX-XXXX'])\n"
     ]
    }
   ],
   "source": [
    "print(profile)\n",
    "print(profile.values())"
   ]
  },
  {
   "cell_type": "code",
   "execution_count": 22,
   "metadata": {},
   "outputs": [
    {
     "name": "stdout",
     "output_type": "stream",
     "text": [
      "{'name': 'kang', 'sex': '남', 'hobby': 'game', 'phone': '010-XXXX-XXXX'}\n",
      "dict_items([('name', 'kang'), ('sex', '남'), ('hobby', 'game'), ('phone', '010-XXXX-XXXX')])\n"
     ]
    }
   ],
   "source": [
    "# items 함수\n",
    "\n",
    "print(profile)\n",
    "print(profile.items())"
   ]
  },
  {
   "cell_type": "code",
   "execution_count": 27,
   "metadata": {},
   "outputs": [
    {
     "name": "stdout",
     "output_type": "stream",
     "text": [
      "{'name': 'kang', 'sex': '남', 'hobby': 'game', 'phone': '010-XXXX-XXXX'}\n",
      "kang\n"
     ]
    },
    {
     "data": {
      "text/plain": [
       "'kang'"
      ]
     },
     "execution_count": 27,
     "metadata": {},
     "output_type": "execute_result"
    }
   ],
   "source": [
    "# get() 함수\n",
    "\n",
    "print(profile)\n",
    "print(profile[\"name\"])\n",
    "profile.get(\"name\")"
   ]
  },
  {
   "cell_type": "code",
   "execution_count": 31,
   "metadata": {},
   "outputs": [
    {
     "name": "stdout",
     "output_type": "stream",
     "text": [
      "True\n",
      "{'name': 'kang', 'sex': '남', 'hobby': 'game', 'phone': '010-XXXX-XXXX'}\n",
      "False\n"
     ]
    }
   ],
   "source": [
    "# 해당 key가 딕셔너리 안에 있는지 조사하기 => in\n",
    "\n",
    "\n",
    "print(\"name\" in profile)\n",
    "print(profile)\n",
    "print(\"school\" in profile)\n"
   ]
  },
  {
   "cell_type": "code",
   "execution_count": null,
   "metadata": {},
   "outputs": [],
   "source": []
  }
 ],
 "metadata": {
  "kernelspec": {
   "display_name": "Python 3",
   "language": "python",
   "name": "python3"
  },
  "language_info": {
   "codemirror_mode": {
    "name": "ipython",
    "version": 3
   },
   "file_extension": ".py",
   "mimetype": "text/x-python",
   "name": "python",
   "nbconvert_exporter": "python",
   "pygments_lexer": "ipython3",
   "version": "3.10.6"
  }
 },
 "nbformat": 4,
 "nbformat_minor": 2
}
