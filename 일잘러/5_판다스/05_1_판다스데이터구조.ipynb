{
 "cells": [
  {
   "cell_type": "code",
   "execution_count": null,
   "metadata": {},
   "outputs": [],
   "source": [
    "import pandas as pd # 판다스를 pd라고 부르겠다\n",
    "\n",
    "\n"
   ]
  },
  {
   "cell_type": "code",
   "execution_count": 5,
   "metadata": {},
   "outputs": [
    {
     "data": {
      "text/html": [
       "<div>\n",
       "<style scoped>\n",
       "    .dataframe tbody tr th:only-of-type {\n",
       "        vertical-align: middle;\n",
       "    }\n",
       "\n",
       "    .dataframe tbody tr th {\n",
       "        vertical-align: top;\n",
       "    }\n",
       "\n",
       "    .dataframe thead th {\n",
       "        text-align: right;\n",
       "    }\n",
       "</style>\n",
       "<table border=\"1\" class=\"dataframe\">\n",
       "  <thead>\n",
       "    <tr style=\"text-align: right;\">\n",
       "      <th></th>\n",
       "      <th>이름</th>\n",
       "      <th>나이</th>\n",
       "      <th>거주지</th>\n",
       "    </tr>\n",
       "  </thead>\n",
       "  <tbody>\n",
       "    <tr>\n",
       "      <th>0</th>\n",
       "      <td>소라</td>\n",
       "      <td>25</td>\n",
       "      <td>인천</td>\n",
       "    </tr>\n",
       "    <tr>\n",
       "      <th>1</th>\n",
       "      <td>창훈</td>\n",
       "      <td>30</td>\n",
       "      <td>순천</td>\n",
       "    </tr>\n",
       "    <tr>\n",
       "      <th>2</th>\n",
       "      <td>영미</td>\n",
       "      <td>35</td>\n",
       "      <td>동해</td>\n",
       "    </tr>\n",
       "  </tbody>\n",
       "</table>\n",
       "</div>"
      ],
      "text/plain": [
       "   이름  나이 거주지\n",
       "0  소라  25  인천\n",
       "1  창훈  30  순천\n",
       "2  영미  35  동해"
      ]
     },
     "execution_count": 5,
     "metadata": {},
     "output_type": "execute_result"
    }
   ],
   "source": [
    "data_list = [\n",
    "    [\"소라\", 25, \"인천\"],\n",
    "    [\"창훈\", 30, \"순천\"],\n",
    "    [\"영미\", 35, \"동해\"]\n",
    "]\n",
    "\n",
    "columns = [\"이름\", \"나이\", \"거주지\"]\n",
    "\n",
    "df = pd.DataFrame(data_list, columns=columns)\n",
    "\n",
    "df"
   ]
  },
  {
   "cell_type": "code",
   "execution_count": 6,
   "metadata": {},
   "outputs": [
    {
     "data": {
      "text/html": [
       "<div>\n",
       "<style scoped>\n",
       "    .dataframe tbody tr th:only-of-type {\n",
       "        vertical-align: middle;\n",
       "    }\n",
       "\n",
       "    .dataframe tbody tr th {\n",
       "        vertical-align: top;\n",
       "    }\n",
       "\n",
       "    .dataframe thead th {\n",
       "        text-align: right;\n",
       "    }\n",
       "</style>\n",
       "<table border=\"1\" class=\"dataframe\">\n",
       "  <thead>\n",
       "    <tr style=\"text-align: right;\">\n",
       "      <th></th>\n",
       "      <th>날짜</th>\n",
       "      <th>제품명</th>\n",
       "      <th>판매량</th>\n",
       "      <th>단가</th>\n",
       "      <th>총판매액</th>\n",
       "    </tr>\n",
       "  </thead>\n",
       "  <tbody>\n",
       "    <tr>\n",
       "      <th>0</th>\n",
       "      <td>2023-01-01</td>\n",
       "      <td>제품A</td>\n",
       "      <td>100</td>\n",
       "      <td>1200</td>\n",
       "      <td>120000</td>\n",
       "    </tr>\n",
       "    <tr>\n",
       "      <th>1</th>\n",
       "      <td>2023-01-02</td>\n",
       "      <td>제품B</td>\n",
       "      <td>150</td>\n",
       "      <td>1500</td>\n",
       "      <td>225000</td>\n",
       "    </tr>\n",
       "    <tr>\n",
       "      <th>2</th>\n",
       "      <td>2023-01-03</td>\n",
       "      <td>제품C</td>\n",
       "      <td>200</td>\n",
       "      <td>1300</td>\n",
       "      <td>260000</td>\n",
       "    </tr>\n",
       "    <tr>\n",
       "      <th>3</th>\n",
       "      <td>2023-01-04</td>\n",
       "      <td>제품D</td>\n",
       "      <td>170</td>\n",
       "      <td>1600</td>\n",
       "      <td>272000</td>\n",
       "    </tr>\n",
       "  </tbody>\n",
       "</table>\n",
       "</div>"
      ],
      "text/plain": [
       "           날짜  제품명  판매량    단가    총판매액\n",
       "0  2023-01-01  제품A  100  1200  120000\n",
       "1  2023-01-02  제품B  150  1500  225000\n",
       "2  2023-01-03  제품C  200  1300  260000\n",
       "3  2023-01-04  제품D  170  1600  272000"
      ]
     },
     "execution_count": 6,
     "metadata": {},
     "output_type": "execute_result"
    }
   ],
   "source": [
    "# 02 파일을 데이터프레임으로 가져오기\n",
    "\n",
    "import pandas as pd\n",
    "\n",
    "df = pd.read_excel(\"sales_data.xlsx\")\n",
    "df"
   ]
  },
  {
   "cell_type": "code",
   "execution_count": 2,
   "metadata": {},
   "outputs": [
    {
     "data": {
      "text/html": [
       "<div>\n",
       "<style scoped>\n",
       "    .dataframe tbody tr th:only-of-type {\n",
       "        vertical-align: middle;\n",
       "    }\n",
       "\n",
       "    .dataframe tbody tr th {\n",
       "        vertical-align: top;\n",
       "    }\n",
       "\n",
       "    .dataframe thead th {\n",
       "        text-align: right;\n",
       "    }\n",
       "</style>\n",
       "<table border=\"1\" class=\"dataframe\">\n",
       "  <thead>\n",
       "    <tr style=\"text-align: right;\">\n",
       "      <th></th>\n",
       "      <th>도서ID</th>\n",
       "      <th>도서명</th>\n",
       "      <th>저자</th>\n",
       "      <th>출판년도</th>\n",
       "    </tr>\n",
       "  </thead>\n",
       "  <tbody>\n",
       "    <tr>\n",
       "      <th>0</th>\n",
       "      <td>1</td>\n",
       "      <td>파이썬 프로그래밍</td>\n",
       "      <td>김파이썬</td>\n",
       "      <td>2019</td>\n",
       "    </tr>\n",
       "    <tr>\n",
       "      <th>1</th>\n",
       "      <td>2</td>\n",
       "      <td>데이터 분석</td>\n",
       "      <td>이데이터</td>\n",
       "      <td>2020</td>\n",
       "    </tr>\n",
       "    <tr>\n",
       "      <th>2</th>\n",
       "      <td>3</td>\n",
       "      <td>머신러닝 입문</td>\n",
       "      <td>박머신</td>\n",
       "      <td>2018</td>\n",
       "    </tr>\n",
       "    <tr>\n",
       "      <th>3</th>\n",
       "      <td>4</td>\n",
       "      <td>인공지능의 이해</td>\n",
       "      <td>최인공</td>\n",
       "      <td>2021</td>\n",
       "    </tr>\n",
       "  </tbody>\n",
       "</table>\n",
       "</div>"
      ],
      "text/plain": [
       "   도서ID        도서명    저자  출판년도\n",
       "0     1  파이썬 프로그래밍  김파이썬  2019\n",
       "1     2     데이터 분석  이데이터  2020\n",
       "2     3    머신러닝 입문   박머신  2018\n",
       "3     4   인공지능의 이해   최인공  2021"
      ]
     },
     "execution_count": 2,
     "metadata": {},
     "output_type": "execute_result"
    }
   ],
   "source": [
    "# 03 데이터프레임을 파일로 저장하기\n",
    "\n",
    "import pandas as pd\n",
    "\n",
    "data = [\n",
    "    [1, \"파이썬 프로그래밍\", \"김파이썬\", 2019],\n",
    "    [2, \"데이터 분석\", \"이데이터\", 2020],\n",
    "    [3, \"머신러닝 입문\", \"박머신\", 2018],\n",
    "    [4, \"인공지능의 이해\", \"최인공\", 2021]\n",
    "]\n",
    "\n",
    "columns = [\"도서ID\", \"도서명\", \"저자\", \"출판년도\"]\n",
    "\n",
    "books_df = pd.DataFrame(data, columns=columns)\n",
    "\n",
    "books_df.to_excel(\"도서_데이터.xlsx\")\n",
    "\n",
    "books_df"
   ]
  },
  {
   "cell_type": "code",
   "execution_count": 42,
   "metadata": {},
   "outputs": [
    {
     "name": "stdout",
     "output_type": "stream",
     "text": [
      "(7, 3)\n"
     ]
    },
    {
     "data": {
      "text/html": [
       "<div>\n",
       "<style scoped>\n",
       "    .dataframe tbody tr th:only-of-type {\n",
       "        vertical-align: middle;\n",
       "    }\n",
       "\n",
       "    .dataframe tbody tr th {\n",
       "        vertical-align: top;\n",
       "    }\n",
       "\n",
       "    .dataframe thead th {\n",
       "        text-align: right;\n",
       "    }\n",
       "</style>\n",
       "<table border=\"1\" class=\"dataframe\">\n",
       "  <thead>\n",
       "    <tr style=\"text-align: right;\">\n",
       "      <th></th>\n",
       "      <th>이름</th>\n",
       "      <th>나이</th>\n",
       "      <th>도시</th>\n",
       "    </tr>\n",
       "  </thead>\n",
       "  <tbody>\n",
       "    <tr>\n",
       "      <th>0</th>\n",
       "      <td>김철수</td>\n",
       "      <td>25</td>\n",
       "      <td>서울</td>\n",
       "    </tr>\n",
       "    <tr>\n",
       "      <th>1</th>\n",
       "      <td>이영희</td>\n",
       "      <td>32</td>\n",
       "      <td>부산</td>\n",
       "    </tr>\n",
       "    <tr>\n",
       "      <th>2</th>\n",
       "      <td>김철수</td>\n",
       "      <td>25</td>\n",
       "      <td>서울</td>\n",
       "    </tr>\n",
       "    <tr>\n",
       "      <th>3</th>\n",
       "      <td>이영희</td>\n",
       "      <td>32</td>\n",
       "      <td>부산</td>\n",
       "    </tr>\n",
       "    <tr>\n",
       "      <th>4</th>\n",
       "      <td>김철수</td>\n",
       "      <td>25</td>\n",
       "      <td>서울</td>\n",
       "    </tr>\n",
       "    <tr>\n",
       "      <th>5</th>\n",
       "      <td>이영희</td>\n",
       "      <td>32</td>\n",
       "      <td>부산</td>\n",
       "    </tr>\n",
       "    <tr>\n",
       "      <th>6</th>\n",
       "      <td>박민수</td>\n",
       "      <td>19</td>\n",
       "      <td>대구</td>\n",
       "    </tr>\n",
       "  </tbody>\n",
       "</table>\n",
       "</div>"
      ],
      "text/plain": [
       "    이름  나이  도시\n",
       "0  김철수  25  서울\n",
       "1  이영희  32  부산\n",
       "2  김철수  25  서울\n",
       "3  이영희  32  부산\n",
       "4  김철수  25  서울\n",
       "5  이영희  32  부산\n",
       "6  박민수  19  대구"
      ]
     },
     "execution_count": 42,
     "metadata": {},
     "output_type": "execute_result"
    }
   ],
   "source": [
    "# 04 shape, columns 속성으로 데이터프레임 정보 파악하기\n",
    "\n",
    "import pandas as pd\n",
    "\n",
    "data = [\n",
    "    [\"김철수\", 25, \"서울\"],\n",
    "    [\"이영희\", 32, \"부산\"],\n",
    "    [\"김철수\", 25, \"서울\"],\n",
    "    [\"이영희\", 32, \"부산\"],\n",
    "    [\"김철수\", 25, \"서울\"],\n",
    "    [\"이영희\", 32, \"부산\"],\n",
    "    [\"박민수\", 19, \"대구\"]\n",
    "]\n",
    "\n",
    "columns = [\"이름\", \"나이\", \"도시\"]\n",
    "\n",
    "df = pd.DataFrame(data, columns=columns)\n",
    "\n",
    "print(df.shape)\n",
    "\n",
    "df"
   ]
  },
  {
   "cell_type": "code",
   "execution_count": 62,
   "metadata": {},
   "outputs": [
    {
     "name": "stdout",
     "output_type": "stream",
     "text": [
      "Index(['이름', '나이', '도시'], dtype='object')\n"
     ]
    }
   ],
   "source": [
    "print(df.columns)"
   ]
  },
  {
   "cell_type": "code",
   "execution_count": 61,
   "metadata": {},
   "outputs": [
    {
     "name": "stdout",
     "output_type": "stream",
     "text": [
      "    이름  나이  도시\n",
      "0  김철수  25  서울\n",
      "    이름  나이  도시\n",
      "2  박민수  19  대구\n"
     ]
    }
   ],
   "source": [
    "# 05 head()함수, tail()함수로 데이터 엿보기\n",
    "\n",
    "import pandas as pd\n",
    "\n",
    "data = [\n",
    "    [\"김철수\", 25, \"서울\"],\n",
    "    [\"이영희\", 32, \"부산\"],\n",
    "    [\"박민수\", 19, \"대구\"]\n",
    "]\n",
    "\n",
    "columns = [\"이름\", \"나이\", \"도시\"]\n",
    "\n",
    "df = pd.DataFrame(data, columns=columns)\n",
    "\n",
    "print(df.head(1))\n",
    "\n",
    "print(df.tail(1))"
   ]
  },
  {
   "cell_type": "code",
   "execution_count": 60,
   "metadata": {},
   "outputs": [
    {
     "name": "stdout",
     "output_type": "stream",
     "text": [
      "<class 'pandas.core.series.Series'>\n",
      "0    서울\n",
      "1    부산\n",
      "2    서울\n",
      "3    부산\n",
      "4    서울\n",
      "5    부산\n",
      "6    대구\n",
      "Name: 도시, dtype: object\n"
     ]
    }
   ],
   "source": [
    "# 06 열 이름 또는 인덱스로 데이터 선택하기\n",
    "\n",
    "column_data = df[\"도시\"]\n",
    "\n",
    "print(type(column_data))\n",
    "\n",
    "print(column_data)"
   ]
  },
  {
   "cell_type": "code",
   "execution_count": 59,
   "metadata": {},
   "outputs": [
    {
     "name": "stdout",
     "output_type": "stream",
     "text": [
      "<class 'pandas.core.frame.DataFrame'>\n",
      "   도시   이름\n",
      "0  서울  김철수\n",
      "1  부산  이영희\n",
      "2  서울  김철수\n",
      "3  부산  이영희\n",
      "4  서울  김철수\n",
      "5  부산  이영희\n",
      "6  대구  박민수\n"
     ]
    }
   ],
   "source": [
    "seleced_columns = df[[\"도시\", \"이름\"]]\n",
    "\n",
    "print(type(seleced_columns))\n",
    "\n",
    "print(seleced_columns)"
   ]
  },
  {
   "cell_type": "code",
   "execution_count": 58,
   "metadata": {},
   "outputs": [
    {
     "data": {
      "text/html": [
       "<div>\n",
       "<style scoped>\n",
       "    .dataframe tbody tr th:only-of-type {\n",
       "        vertical-align: middle;\n",
       "    }\n",
       "\n",
       "    .dataframe tbody tr th {\n",
       "        vertical-align: top;\n",
       "    }\n",
       "\n",
       "    .dataframe thead th {\n",
       "        text-align: right;\n",
       "    }\n",
       "</style>\n",
       "<table border=\"1\" class=\"dataframe\">\n",
       "  <thead>\n",
       "    <tr style=\"text-align: right;\">\n",
       "      <th></th>\n",
       "      <th>도시</th>\n",
       "    </tr>\n",
       "  </thead>\n",
       "  <tbody>\n",
       "    <tr>\n",
       "      <th>0</th>\n",
       "      <td>서울</td>\n",
       "    </tr>\n",
       "    <tr>\n",
       "      <th>1</th>\n",
       "      <td>부산</td>\n",
       "    </tr>\n",
       "    <tr>\n",
       "      <th>2</th>\n",
       "      <td>서울</td>\n",
       "    </tr>\n",
       "    <tr>\n",
       "      <th>3</th>\n",
       "      <td>부산</td>\n",
       "    </tr>\n",
       "    <tr>\n",
       "      <th>4</th>\n",
       "      <td>서울</td>\n",
       "    </tr>\n",
       "    <tr>\n",
       "      <th>5</th>\n",
       "      <td>부산</td>\n",
       "    </tr>\n",
       "    <tr>\n",
       "      <th>6</th>\n",
       "      <td>대구</td>\n",
       "    </tr>\n",
       "  </tbody>\n",
       "</table>\n",
       "</div>"
      ],
      "text/plain": [
       "   도시\n",
       "0  서울\n",
       "1  부산\n",
       "2  서울\n",
       "3  부산\n",
       "4  서울\n",
       "5  부산\n",
       "6  대구"
      ]
     },
     "execution_count": 58,
     "metadata": {},
     "output_type": "execute_result"
    }
   ],
   "source": [
    "column_data = df[[\"도시\"]]\n",
    "column_data"
   ]
  },
  {
   "cell_type": "code",
   "execution_count": 57,
   "metadata": {},
   "outputs": [
    {
     "name": "stdout",
     "output_type": "stream",
     "text": [
      "이름    김철수\n",
      "나이     25\n",
      "도시     서울\n",
      "Name: 0, dtype: object\n"
     ]
    }
   ],
   "source": [
    "# 행 선택하기\n",
    "\n",
    "row = df.loc[0]\n",
    "print(row)"
   ]
  },
  {
   "cell_type": "code",
   "execution_count": 56,
   "metadata": {},
   "outputs": [
    {
     "name": "stdout",
     "output_type": "stream",
     "text": [
      "    이름  나이  도시\n",
      "0  김철수  25  서울\n",
      "2  김철수  25  서울\n"
     ]
    }
   ],
   "source": [
    "# 인덱싱\n",
    "\n",
    "seleced_rows1 = df.loc[[0, 2]]\n",
    "print(seleced_rows1)"
   ]
  },
  {
   "cell_type": "code",
   "execution_count": 55,
   "metadata": {},
   "outputs": [
    {
     "name": "stdout",
     "output_type": "stream",
     "text": [
      "    이름  나이  도시\n",
      "1  이영희  32  부산\n",
      "2  김철수  25  서울\n"
     ]
    }
   ],
   "source": [
    "# 슬라이싱\n",
    "\n",
    "seleced_rows2 = df.loc[1:2]\n",
    "print(seleced_rows2)"
   ]
  },
  {
   "cell_type": "code",
   "execution_count": 54,
   "metadata": {},
   "outputs": [
    {
     "name": "stdout",
     "output_type": "stream",
     "text": [
      "0    서울\n",
      "1    부산\n",
      "2    서울\n",
      "3    부산\n",
      "4    서울\n",
      "5    부산\n",
      "6    대구\n",
      "Name: 도시, dtype: object\n"
     ]
    }
   ],
   "source": [
    "seleced_column = df.loc[:, \"도시\"]\n",
    "\n",
    "print(seleced_column)"
   ]
  },
  {
   "cell_type": "code",
   "execution_count": 53,
   "metadata": {},
   "outputs": [
    {
     "name": "stdout",
     "output_type": "stream",
     "text": [
      "   도시   이름\n",
      "0  서울  김철수\n",
      "1  부산  이영희\n",
      "2  서울  김철수\n",
      "3  부산  이영희\n",
      "4  서울  김철수\n",
      "5  부산  이영희\n",
      "6  대구  박민수\n"
     ]
    }
   ],
   "source": [
    "seleced_column1 = df.loc[:, [\"도시\", \"이름\"]]\n",
    "print(seleced_column1)"
   ]
  },
  {
   "cell_type": "code",
   "execution_count": 52,
   "metadata": {},
   "outputs": [
    {
     "name": "stdout",
     "output_type": "stream",
     "text": [
      "   나이  도시\n",
      "0  25  서울\n",
      "1  32  부산\n",
      "2  25  서울\n",
      "3  32  부산\n",
      "4  25  서울\n",
      "5  32  부산\n",
      "6  19  대구\n"
     ]
    }
   ],
   "source": [
    "seleced_column2 = df.loc[:, \"나이\":\"도시\"]\n",
    "print(seleced_column2)"
   ]
  },
  {
   "cell_type": "code",
   "execution_count": 51,
   "metadata": {},
   "outputs": [
    {
     "name": "stdout",
     "output_type": "stream",
     "text": [
      "김철수\n"
     ]
    }
   ],
   "source": [
    "seleced_value = df.loc[0 , \"이름\"]\n",
    "print(seleced_value)"
   ]
  },
  {
   "cell_type": "code",
   "execution_count": 49,
   "metadata": {},
   "outputs": [
    {
     "name": "stdout",
     "output_type": "stream",
     "text": [
      "이름    김철수\n",
      "나이     25\n",
      "도시     서울\n",
      "Name: 0, dtype: object\n",
      "-----------------------\n",
      "column\n"
     ]
    }
   ],
   "source": [
    "# iloc[]\n",
    "\n",
    "row = df.iloc[0]\n",
    "\n",
    "column = df.iloc[:, 1]\n",
    "\n",
    "print(row)\n",
    "print(\"-----------------------\")\n",
    "print(\"column\")"
   ]
  },
  {
   "cell_type": "code",
   "execution_count": 48,
   "metadata": {},
   "outputs": [
    {
     "name": "stdout",
     "output_type": "stream",
     "text": [
      "0    서울\n",
      "1    부산\n",
      "2    서울\n",
      "3    부산\n",
      "4    서울\n",
      "5    부산\n",
      "6    대구\n",
      "Name: 도시, dtype: object\n"
     ]
    }
   ],
   "source": [
    "last_column = df.iloc[:, -1]\n",
    "\n",
    "print(last_column)"
   ]
  },
  {
   "cell_type": "code",
   "execution_count": 47,
   "metadata": {},
   "outputs": [
    {
     "name": "stdout",
     "output_type": "stream",
     "text": [
      "    이름  나이  도시\n",
      "0  김철수  25  서울\n",
      "1  이영희  32  부산\n",
      "-----------------------\n",
      "   나이\n",
      "0  25\n",
      "1  32\n",
      "2  25\n",
      "3  32\n",
      "4  25\n",
      "5  32\n",
      "6  19\n"
     ]
    }
   ],
   "source": [
    "rows_iloc = df.iloc[0:2]\n",
    "\n",
    "columns_iloc = df.iloc[:, 1:2]\n",
    "\n",
    "print(rows_iloc)\n",
    "print(\"-----------------------\")\n",
    "print(columns_iloc)"
   ]
  },
  {
   "cell_type": "code",
   "execution_count": 46,
   "metadata": {},
   "outputs": [
    {
     "name": "stdout",
     "output_type": "stream",
     "text": [
      "    이름  나이  도시\n",
      "0  김철수  25  서울\n",
      "1  이영희  32  부산\n",
      "2  김철수  25  서울\n",
      "---------------------\n",
      "   나이  도시\n",
      "0  25  서울\n",
      "1  32  부산\n",
      "2  25  서울\n",
      "3  32  부산\n",
      "4  25  서울\n",
      "5  32  부산\n",
      "6  19  대구\n"
     ]
    }
   ],
   "source": [
    "rows_loc = df.loc[0:2]\n",
    "\n",
    "columns_loc = df.loc[:, \"나이\":\"도시\"]\n",
    "\n",
    "print(rows_loc)\n",
    "print(\"---------------------\")\n",
    "print(columns_loc)\n"
   ]
  },
  {
   "cell_type": "code",
   "execution_count": 45,
   "metadata": {},
   "outputs": [
    {
     "name": "stdout",
     "output_type": "stream",
     "text": [
      "    이름  나이  도시\n",
      "0  김철수  25  서울\n",
      "2  김철수  25  서울\n",
      "------------------------\n",
      "    이름  도시\n",
      "0  김철수  서울\n",
      "1  이영희  부산\n",
      "2  김철수  서울\n",
      "3  이영희  부산\n",
      "4  김철수  서울\n",
      "5  이영희  부산\n",
      "6  박민수  대구\n"
     ]
    }
   ],
   "source": [
    "rows_list = df.iloc[[0, 2]]\n",
    "\n",
    "columns_list = df.iloc[:, [0, 2]]\n",
    "\n",
    "print(rows_list)\n",
    "print(\"------------------------\")\n",
    "print(columns_list)"
   ]
  },
  {
   "cell_type": "code",
   "execution_count": 44,
   "metadata": {},
   "outputs": [
    {
     "name": "stdout",
     "output_type": "stream",
     "text": [
      "    이름  나이  도시\n",
      "0  김철수  25  서울\n",
      "1  이영희  32  부산\n"
     ]
    }
   ],
   "source": [
    "selected_rows = df[0:2]\n",
    "\n",
    "print(selected_rows)"
   ]
  },
  {
   "cell_type": "code",
   "execution_count": 43,
   "metadata": {},
   "outputs": [
    {
     "name": "stdout",
     "output_type": "stream",
     "text": [
      "    이름  나이  도시\n",
      "0  김철수  25  서울\n",
      "1  이영희  32  부산\n",
      "2  김철수  25  서울\n",
      "3  이영희  32  부산\n",
      "4  김철수  25  서울\n",
      "5  이영희  32  부산\n"
     ]
    }
   ],
   "source": [
    "# 조건으로 특정 데이터 필터링\n",
    "\n",
    "filtered_rows1 = df[df[\"나이\"]> 20]\n",
    "print(filtered_rows1)"
   ]
  },
  {
   "cell_type": "code",
   "execution_count": 71,
   "metadata": {},
   "outputs": [
    {
     "name": "stdout",
     "output_type": "stream",
     "text": [
      "    이름  나이  도시\n",
      "1  이영희  32  부산\n"
     ]
    }
   ],
   "source": [
    "filtered_rows2 = df[(df[\"나이\"]> 30) & (df[\"도시\"] != \"서울\")]\n",
    "print(filtered_rows2)"
   ]
  },
  {
   "cell_type": "code",
   "execution_count": 72,
   "metadata": {},
   "outputs": [
    {
     "name": "stdout",
     "output_type": "stream",
     "text": [
      "    이름  나이  도시\n",
      "1  이영희  32  부산\n",
      "2  박민수  19  대구\n"
     ]
    }
   ],
   "source": [
    "조건 = df[\"도시\"].isin([\"대구\", \"부산\"])\n",
    "\n",
    "filtered_rows1_isin = df[조건]\n",
    "\n",
    "print(filtered_rows1_isin)"
   ]
  }
 ],
 "metadata": {
  "kernelspec": {
   "display_name": "Python 3",
   "language": "python",
   "name": "python3"
  },
  "language_info": {
   "codemirror_mode": {
    "name": "ipython",
    "version": 3
   },
   "file_extension": ".py",
   "mimetype": "text/x-python",
   "name": "python",
   "nbconvert_exporter": "python",
   "pygments_lexer": "ipython3",
   "version": "3.13.1"
  }
 },
 "nbformat": 4,
 "nbformat_minor": 2
}
