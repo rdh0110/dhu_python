{
 "cells": [
  {
   "cell_type": "code",
   "execution_count": 1,
   "metadata": {},
   "outputs": [],
   "source": [
    "html = \"\"\"\n",
    "\n",
    "<html>\n",
    "  <head>\n",
    "    <title>온라인 쇼핑몰</title>\n",
    "  </head>\n",
    "  <body>\n",
    "    <h1>\n",
    "      장바구니\n",
    "      <p id=\"clothes\" class=\"name\" title=\"라운드티\">\n",
    "        라운드티\n",
    "        <span class=\"number\"> 25 </span>\n",
    "        <span class=\"price\"> 29000 </span>\n",
    "        <span class=\"menu\"> 의류</span>\n",
    "        <a href=\"http://www.naver.com\"> 바로가기 </a>\n",
    "      </p>\n",
    "      <p id=\"watch\" class=\"name\" title=\"시계\">\n",
    "        시계\n",
    "        <span class=\"number\"> 28 </span>\n",
    "        <span class=\"price\"> 35000 </span>\n",
    "        <span class=\"menu\"> 액세서리</span>\n",
    "        <a href=\"http://www.facebook.com\"> 바로가기 </a>\n",
    "      </p>\n",
    "    </h1>\n",
    "  </body>\n",
    "</html>\n",
    "\"\"\""
   ]
  },
  {
   "cell_type": "code",
   "execution_count": 2,
   "metadata": {},
   "outputs": [
    {
     "data": {
      "text/plain": [
       "'\\n\\n<html>\\n  <head>\\n    <title>온라인 쇼핑몰</title>\\n  </head>\\n  <body>\\n    <h1>\\n      장바구니\\n      <p id=\"clothes\" class=\"name\" title=\"라운드티\">\\n        라운드티\\n        <span class=\"number\"> 25 </span>\\n        <span class=\"price\"> 29000 </span>\\n        <span class=\"menu\"> 의류</span>\\n        <a href=\"http://www.naver.com\"> 바로가기 </a>\\n      </p>\\n      <p id=\"watch\" class=\"name\" title=\"시계\">\\n        시계\\n        <span class=\"number\"> 28 </span>\\n        <span class=\"price\"> 35000 </span>\\n        <span class=\"menu\"> 액세서리</span>\\n        <a href=\"http://www.facebook.com\"> 바로가기 </a>\\n      </p>\\n    </h1>\\n  </body>\\n</html>\\n'"
      ]
     },
     "execution_count": 2,
     "metadata": {},
     "output_type": "execute_result"
    }
   ],
   "source": [
    "html"
   ]
  },
  {
   "cell_type": "code",
   "execution_count": 13,
   "metadata": {},
   "outputs": [
    {
     "data": {
      "text/plain": [
       "[<p class=\"name\" id=\"clothes\" title=\"라운드티\">\n",
       "         라운드티\n",
       "         <span class=\"number\"> 25 </span>\n",
       " <span class=\"price\"> 29000 </span>\n",
       " <span class=\"menu\"> 의류</span>\n",
       " <a href=\"http://www.naver.com\"> 바로가기 </a>\n",
       " </p>,\n",
       " <p class=\"name\" id=\"watch\" title=\"시계\">\n",
       "         시계\n",
       "         <span class=\"number\"> 28 </span>\n",
       " <span class=\"price\"> 35000 </span>\n",
       " <span class=\"menu\"> 액세서리</span>\n",
       " <a href=\"http://www.facebook.com\"> 바로가기 </a>\n",
       " </p>]"
      ]
     },
     "execution_count": 13,
     "metadata": {},
     "output_type": "execute_result"
    }
   ],
   "source": [
    "# find(), find_all() 함수로 요소 찾기\n",
    "\n",
    "from bs4 import BeautifulSoup\n",
    "\n",
    "soup = BeautifulSoup(html, \"html.parser\")\n",
    "\n",
    "a = soup.find_all(\"p\")\n",
    "a"
   ]
  },
  {
   "cell_type": "code",
   "execution_count": 15,
   "metadata": {},
   "outputs": [
    {
     "data": {
      "text/plain": [
       "<p class=\"name\" id=\"clothes\" title=\"라운드티\">\n",
       "        라운드티\n",
       "        <span class=\"number\"> 25 </span>\n",
       "<span class=\"price\"> 29000 </span>\n",
       "<span class=\"menu\"> 의류</span>\n",
       "<a href=\"http://www.naver.com\"> 바로가기 </a>\n",
       "</p>"
      ]
     },
     "execution_count": 15,
     "metadata": {},
     "output_type": "execute_result"
    }
   ],
   "source": [
    "soup.find(\"p\")"
   ]
  },
  {
   "cell_type": "code",
   "execution_count": 16,
   "metadata": {},
   "outputs": [
    {
     "data": {
      "text/plain": [
       "<p class=\"name\" id=\"clothes\" title=\"라운드티\">\n",
       "        라운드티\n",
       "        <span class=\"number\"> 25 </span>\n",
       "<span class=\"price\"> 29000 </span>\n",
       "<span class=\"menu\"> 의류</span>\n",
       "<a href=\"http://www.naver.com\"> 바로가기 </a>\n",
       "</p>"
      ]
     },
     "execution_count": 16,
     "metadata": {},
     "output_type": "execute_result"
    }
   ],
   "source": [
    "# id 속성값으로 데이터 요소 찾기\n",
    "\n",
    "soup.find(id=\"clothes\")"
   ]
  },
  {
   "cell_type": "code",
   "execution_count": 18,
   "metadata": {},
   "outputs": [
    {
     "data": {
      "text/plain": [
       "<p class=\"name\" id=\"clothes\" title=\"라운드티\">\n",
       "        라운드티\n",
       "        <span class=\"number\"> 25 </span>\n",
       "<span class=\"price\"> 29000 </span>\n",
       "<span class=\"menu\"> 의류</span>\n",
       "<a href=\"http://www.naver.com\"> 바로가기 </a>\n",
       "</p>"
      ]
     },
     "execution_count": 18,
     "metadata": {},
     "output_type": "execute_result"
    }
   ],
   "source": [
    "a = soup.find_all(id=\"clothes\")\n",
    "a[0]"
   ]
  },
  {
   "cell_type": "code",
   "execution_count": 20,
   "metadata": {},
   "outputs": [
    {
     "data": {
      "text/plain": [
       "<span class=\"number\"> 25 </span>"
      ]
     },
     "execution_count": 20,
     "metadata": {},
     "output_type": "execute_result"
    }
   ],
   "source": [
    "# 하위 요소를 연이어 찾기\n",
    "\n",
    "soup.find(\"p\").find(\"span\")"
   ]
  },
  {
   "cell_type": "code",
   "execution_count": 25,
   "metadata": {},
   "outputs": [
    {
     "name": "stdout",
     "output_type": "stream",
     "text": [
      "[<span class=\"number\"> 25 </span>, <span class=\"price\"> 29000 </span>, <span class=\"menu\"> 의류</span>]\n",
      "<span class=\"price\"> 29000 </span>\n"
     ]
    }
   ],
   "source": [
    "print(soup.find(\"p\").find_all(\"span\"))\n",
    "print(soup.find(\"p\").find_all(\"span\")[1])"
   ]
  },
  {
   "cell_type": "code",
   "execution_count": 34,
   "metadata": {},
   "outputs": [
    {
     "name": "stdout",
     "output_type": "stream",
     "text": [
      "의류\n"
     ]
    }
   ],
   "source": [
    "a = soup.find(\"span\", class_= \"menu\").get_text(strip=True)\n",
    "print(a)"
   ]
  },
  {
   "cell_type": "code",
   "execution_count": 35,
   "metadata": {},
   "outputs": [
    {
     "name": "stdout",
     "output_type": "stream",
     "text": [
      "의류\n"
     ]
    }
   ],
   "source": [
    "a = soup.find(\"span\", class_= \"menu\").get_text(strip=True)\n",
    "print(a.strip())"
   ]
  },
  {
   "cell_type": "code",
   "execution_count": 45,
   "metadata": {},
   "outputs": [
    {
     "data": {
      "text/plain": [
       "[<span class=\"number\"> 25 </span>,\n",
       " <span class=\"price\"> 29000 </span>,\n",
       " <span class=\"menu\"> 의류</span>]"
      ]
     },
     "execution_count": 45,
     "metadata": {},
     "output_type": "execute_result"
    }
   ],
   "source": [
    "# select_one(), select() 함수로 요소 찾기\n",
    "\n",
    "# 기능은 find 와 find_all 과 비슷함\n",
    "\n",
    "soup.select(\"p > span.price\")"
   ]
  },
  {
   "cell_type": "code",
   "execution_count": 47,
   "metadata": {},
   "outputs": [
    {
     "data": {
      "text/plain": [
       "[<span class=\"number\"> 25 </span>,\n",
       " <span class=\"price\"> 29000 </span>,\n",
       " <span class=\"menu\"> 의류</span>]"
      ]
     },
     "execution_count": 47,
     "metadata": {},
     "output_type": "execute_result"
    }
   ],
   "source": [
    "soup.find_all(\"p\")[0].find_all(\"span\")"
   ]
  },
  {
   "cell_type": "code",
   "execution_count": 48,
   "metadata": {},
   "outputs": [
    {
     "data": {
      "text/plain": [
       "[<p class=\"name\" id=\"watch\" title=\"시계\">\n",
       "         시계\n",
       "         <span class=\"number\"> 28 </span>\n",
       " <span class=\"price\"> 35000 </span>\n",
       " <span class=\"menu\"> 액세서리</span>\n",
       " <a href=\"http://www.facebook.com\"> 바로가기 </a>\n",
       " </p>]"
      ]
     },
     "execution_count": 48,
     "metadata": {},
     "output_type": "execute_result"
    }
   ],
   "source": [
    "soup.select(\"#watch\")"
   ]
  },
  {
   "cell_type": "code",
   "execution_count": 53,
   "metadata": {},
   "outputs": [
    {
     "name": "stdout",
     "output_type": "stream",
     "text": [
      "[]\n",
      "[<span class=\"menu\"> 의류</span>, <span class=\"menu\"> 액세서리</span>]\n"
     ]
    }
   ],
   "source": [
    "# 여기서  . 은 class 임  그리고 왜 빈 칸으로 나오냐면 h1 의 자식은 p 이고 그 자식이 menu라서 자식의 자식은 가져 올 순 없음\n",
    "\n",
    "print(soup.select(\"h1 > .menu\"))\n",
    "\n",
    "print(soup.select(\"h1  .menu\"))"
   ]
  },
  {
   "cell_type": "code",
   "execution_count": 57,
   "metadata": {},
   "outputs": [
    {
     "data": {
      "text/plain": [
       "'의류'"
      ]
     },
     "execution_count": 57,
     "metadata": {},
     "output_type": "execute_result"
    }
   ],
   "source": [
    "soup.select_one(\"h1 .menu\").get_text(strip=True)"
   ]
  },
  {
   "cell_type": "code",
   "execution_count": 60,
   "metadata": {},
   "outputs": [
    {
     "data": {
      "text/plain": [
       "'의류'"
      ]
     },
     "execution_count": 60,
     "metadata": {},
     "output_type": "execute_result"
    }
   ],
   "source": [
    "soup.select(\"h1 .menu\")[0].get_text(strip=True)"
   ]
  },
  {
   "cell_type": "code",
   "execution_count": 62,
   "metadata": {},
   "outputs": [
    {
     "name": "stdout",
     "output_type": "stream",
     "text": [
      "<a href=\"http://www.naver.com\"> 바로가기 </a>\n",
      "<a href=\"http://www.naver.com\"> 바로가기 </a>\n"
     ]
    }
   ],
   "source": [
    "# attrs로 속성값 추출하기\n",
    "\n",
    "print(soup.a)\n",
    "print(soup.find(\"a\"))"
   ]
  },
  {
   "cell_type": "code",
   "execution_count": 63,
   "metadata": {},
   "outputs": [
    {
     "data": {
      "text/plain": [
       "'http://www.naver.com'"
      ]
     },
     "execution_count": 63,
     "metadata": {},
     "output_type": "execute_result"
    }
   ],
   "source": [
    "soup.a.get(\"href\")"
   ]
  },
  {
   "cell_type": "code",
   "execution_count": 65,
   "metadata": {},
   "outputs": [
    {
     "data": {
      "text/plain": [
       "{'href': 'http://www.naver.com'}"
      ]
     },
     "execution_count": 65,
     "metadata": {},
     "output_type": "execute_result"
    }
   ],
   "source": [
    "soup.find(\"a\").attrs"
   ]
  },
  {
   "cell_type": "code",
   "execution_count": 67,
   "metadata": {},
   "outputs": [
    {
     "data": {
      "text/plain": [
       "[<span class=\"number\"> 25 </span>,\n",
       " <span class=\"price\"> 29000 </span>,\n",
       " <span class=\"menu\"> 의류</span>,\n",
       " <span class=\"number\"> 28 </span>,\n",
       " <span class=\"price\"> 35000 </span>,\n",
       " <span class=\"menu\"> 액세서리</span>]"
      ]
     },
     "execution_count": 67,
     "metadata": {},
     "output_type": "execute_result"
    }
   ],
   "source": [
    "soup.select(\"span\", {\"title\" : \"라운드티\"})"
   ]
  },
  {
   "cell_type": "code",
   "execution_count": 69,
   "metadata": {},
   "outputs": [
    {
     "data": {
      "text/plain": [
       "<span class=\"number\"> 25 </span>"
      ]
     },
     "execution_count": 69,
     "metadata": {},
     "output_type": "execute_result"
    }
   ],
   "source": [
    "soup.h1.p.span"
   ]
  },
  {
   "cell_type": "code",
   "execution_count": 79,
   "metadata": {},
   "outputs": [
    {
     "data": {
      "text/plain": [
       "<p class=\"name\" id=\"clothes\" title=\"라운드티\">\n",
       "        라운드티\n",
       "        <span class=\"number\"> 25 </span>\n",
       "<span class=\"price\"> 29000 </span>\n",
       "<span class=\"menu\"> 의류</span>\n",
       "<a href=\"http://www.naver.com\"> 바로가기 </a>\n",
       "</p>"
      ]
     },
     "execution_count": 79,
     "metadata": {},
     "output_type": "execute_result"
    }
   ],
   "source": [
    "# 부모 요소 찾기\n",
    "\n",
    "soup.a.parent"
   ]
  },
  {
   "cell_type": "code",
   "execution_count": 80,
   "metadata": {},
   "outputs": [
    {
     "data": {
      "text/plain": [
       "<p class=\"name\" id=\"clothes\" title=\"라운드티\">\n",
       "        라운드티\n",
       "        <span class=\"number\"> 25 </span>\n",
       "<span class=\"price\"> 29000 </span>\n",
       "<span class=\"menu\"> 의류</span>\n",
       "<a href=\"http://www.naver.com\"> 바로가기 </a>\n",
       "</p>"
      ]
     },
     "execution_count": 80,
     "metadata": {},
     "output_type": "execute_result"
    }
   ],
   "source": [
    "soup.select_one(\"a\").parent"
   ]
  },
  {
   "cell_type": "code",
   "execution_count": 93,
   "metadata": {},
   "outputs": [
    {
     "data": {
      "text/plain": [
       "[<span class=\"price\"> 29000 </span>,\n",
       " <span class=\"menu\"> 의류</span>,\n",
       " <a href=\"http://www.naver.com\"> 바로가기 </a>]"
      ]
     },
     "execution_count": 93,
     "metadata": {},
     "output_type": "execute_result"
    }
   ],
   "source": [
    "# 형제 요소 찾기\n",
    "\n",
    "soup.select_one(\"span\").find_next_siblings()"
   ]
  }
 ],
 "metadata": {
  "kernelspec": {
   "display_name": "Python 3",
   "language": "python",
   "name": "python3"
  },
  "language_info": {
   "codemirror_mode": {
    "name": "ipython",
    "version": 3
   },
   "file_extension": ".py",
   "mimetype": "text/x-python",
   "name": "python",
   "nbconvert_exporter": "python",
   "pygments_lexer": "ipython3",
   "version": "3.13.1"
  }
 },
 "nbformat": 4,
 "nbformat_minor": 2
}
