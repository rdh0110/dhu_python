{
 "cells": [
  {
   "cell_type": "code",
   "execution_count": 3,
   "metadata": {},
   "outputs": [],
   "source": [
    "#글꼴 스타일 설정\n",
    "\n",
    "from openpyxl import Workbook\n",
    "from openpyxl.styles import Font\n",
    "\n",
    "wb = Workbook()\n",
    "ws = wb.active\n",
    "\n",
    "cell = ws[\"A1\"]\n",
    "cell.value = \"Hello World\"\n",
    "\n",
    "\n",
    "cell.font = Font(color=\"FF0000\",\n",
    "                italic=True,\n",
    "                bold=True,\n",
    "                size=20)\n",
    "\n",
    "wb.save(\"엑셀 서식.xlsx\")"
   ]
  },
  {
   "cell_type": "code",
   "execution_count": 17,
   "metadata": {},
   "outputs": [],
   "source": [
    "# 셀 서식 설정하기\n",
    "\n",
    "from openpyxl import Workbook\n",
    "from openpyxl.styles import Font\n",
    "from openpyxl.styles import PatternFill, Border, Side, Alignment\n",
    "\n",
    "wb = Workbook()\n",
    "ws = wb.active\n",
    "\n",
    "cell = ws[\"A1\"]\n",
    "cell.value = \"Hello World\"\n",
    "\n",
    "\n",
    "cell.font = Font(color=\"FF0000\",\n",
    "                italic=True,\n",
    "                bold=True,\n",
    "                size=20)\n",
    "\n",
    "#A열의 너비를 50으로 설정\n",
    "\n",
    "ws.column_dimensions[\"A\"].width = 50\n",
    "ws.row_dimensions[1].height = 50\n",
    "\n",
    "yellow_fill = PatternFill(start_color=\"FFFF00\", end_color=\"FFFF00\", fill_type= \"solid\")\n",
    "cell.fill = yellow_fill\n",
    "\n",
    "\n",
    "thin_side = Side(style=\"thin\")\n",
    "cell.border = Border(left=thin_side,\n",
    "                     right=thin_side,\n",
    "                     top=thin_side,\n",
    "                     bottom=thin_side)\n",
    "\n",
    "cell.alignment = Alignment(horizontal=\"center\", vertical=\"center\")\n",
    "\n",
    "wb.save(\"엑셀 서식.xlsx\")"
   ]
  },
  {
   "cell_type": "code",
   "execution_count": 19,
   "metadata": {},
   "outputs": [],
   "source": [
    "# 데이터 형식 설정하기\n",
    "\n",
    "from openpyxl import Workbook\n",
    "from datetime import datetime\n",
    "\n",
    "wb = Workbook()\n",
    "ws = wb.active\n",
    "\n",
    "ws[\"A1\"]= 1234567.890123\n",
    "ws[\"A1\"].number_format = \"#,##0.00\"\n",
    "\n",
    "ws[\"B1\"]= 0.12345\n",
    "ws[\"B1\"].number_format = \"0.00%\"\n",
    "\n",
    "ws[\"C1\"]= datetime(2023,9 ,7)\n",
    "ws[\"C1\"].number_format = \"YYYY-MM-DD\"\n",
    "\n",
    "ws[\"D1\"]= 1234567.89\n",
    "ws[\"D1\"].number_format = \"₩#,##0\"\n",
    "\n",
    "\n",
    "\n",
    "\n",
    "wb.save(\"표시 형식 설정.xlsx\")\n",
    "\n"
   ]
  },
  {
   "cell_type": "code",
   "execution_count": null,
   "metadata": {},
   "outputs": [],
   "source": []
  }
 ],
 "metadata": {
  "kernelspec": {
   "display_name": "Python 3",
   "language": "python",
   "name": "python3"
  },
  "language_info": {
   "codemirror_mode": {
    "name": "ipython",
    "version": 3
   },
   "file_extension": ".py",
   "mimetype": "text/x-python",
   "name": "python",
   "nbconvert_exporter": "python",
   "pygments_lexer": "ipython3",
   "version": "3.13.1"
  }
 },
 "nbformat": 4,
 "nbformat_minor": 2
}
