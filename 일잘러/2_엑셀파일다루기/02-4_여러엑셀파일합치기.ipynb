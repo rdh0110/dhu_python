{
 "cells": [
  {
   "cell_type": "code",
   "execution_count": 17,
   "metadata": {},
   "outputs": [],
   "source": [
    "from openpyxl import workbook, load_workbook\n",
    "import os\n",
    "import re\n",
    "\n",
    "new_wb = Workbook()\n",
    "new_ws = new_wb.active\n",
    "new_ws.title = \"수신내역\"\n",
    "\n",
    "new_ws.append([\"수신시간\", \"발신번호\", \"페이지수\", \"용량\"])\n",
    "\n",
    "for filename in os.listdir(\"./fax\"):\n",
    "    wb= load_workbook(\"./fax/\" + filename)\n",
    "    ws = wb.active\n",
    "\n",
    "    for row in ws.iter_rows(min_row=2, values_only=True):\n",
    "        new_ws.append(row)\n",
    "\n",
    "new_wb.save(\"10월팩스수신내역.xlsx\")"
   ]
  },
  {
   "cell_type": "code",
   "execution_count": null,
   "metadata": {},
   "outputs": [],
   "source": []
  }
 ],
 "metadata": {
  "kernelspec": {
   "display_name": "Python 3",
   "language": "python",
   "name": "python3"
  },
  "language_info": {
   "codemirror_mode": {
    "name": "ipython",
    "version": 3
   },
   "file_extension": ".py",
   "mimetype": "text/x-python",
   "name": "python",
   "nbconvert_exporter": "python",
   "pygments_lexer": "ipython3",
   "version": "3.13.1"
  }
 },
 "nbformat": 4,
 "nbformat_minor": 2
}
